{
 "cells": [
  {
   "cell_type": "code",
   "execution_count": null,
   "metadata": {},
   "outputs": [
    {
     "name": "stdout",
     "output_type": "stream",
     "text": [
      "Collecting accelerate (from -r requirements.txt (line 1))\n",
      "  Downloading accelerate-1.1.0-py3-none-any.whl.metadata (19 kB)\n",
      "Collecting datasets (from -r requirements.txt (line 2))\n",
      "  Downloading datasets-3.1.0-py3-none-any.whl.metadata (20 kB)\n",
      "Requirement already satisfied: torch in /Users/sheylacorral/miniconda3/envs/nlp/lib/python3.12/site-packages (from -r requirements.txt (line 3)) (2.4.1)\n",
      "Requirement already satisfied: tqdm in /Users/sheylacorral/miniconda3/envs/nlp/lib/python3.12/site-packages (from -r requirements.txt (line 4)) (4.66.5)\n",
      "Requirement already satisfied: transformers in /Users/sheylacorral/miniconda3/envs/nlp/lib/python3.12/site-packages (from -r requirements.txt (line 5)) (4.45.2)\n",
      "Collecting evaluate (from -r requirements.txt (line 6))\n",
      "  Downloading evaluate-0.4.3-py3-none-any.whl.metadata (9.2 kB)\n",
      "Requirement already satisfied: numpy<3.0.0,>=1.17 in /Users/sheylacorral/miniconda3/envs/nlp/lib/python3.12/site-packages (from accelerate->-r requirements.txt (line 1)) (1.26.4)\n",
      "Requirement already satisfied: packaging>=20.0 in /Users/sheylacorral/miniconda3/envs/nlp/lib/python3.12/site-packages (from accelerate->-r requirements.txt (line 1)) (24.1)\n",
      "Requirement already satisfied: psutil in /Users/sheylacorral/miniconda3/envs/nlp/lib/python3.12/site-packages (from accelerate->-r requirements.txt (line 1)) (5.9.0)\n",
      "Requirement already satisfied: pyyaml in /Users/sheylacorral/miniconda3/envs/nlp/lib/python3.12/site-packages (from accelerate->-r requirements.txt (line 1)) (6.0.2)\n",
      "Requirement already satisfied: huggingface-hub>=0.21.0 in /Users/sheylacorral/miniconda3/envs/nlp/lib/python3.12/site-packages (from accelerate->-r requirements.txt (line 1)) (0.26.1)\n",
      "Requirement already satisfied: safetensors>=0.4.3 in /Users/sheylacorral/miniconda3/envs/nlp/lib/python3.12/site-packages (from accelerate->-r requirements.txt (line 1)) (0.4.5)\n",
      "Requirement already satisfied: filelock in /Users/sheylacorral/miniconda3/envs/nlp/lib/python3.12/site-packages (from datasets->-r requirements.txt (line 2)) (3.16.0)\n",
      "Collecting pyarrow>=15.0.0 (from datasets->-r requirements.txt (line 2))\n",
      "  Downloading pyarrow-18.0.0-cp312-cp312-macosx_12_0_arm64.whl.metadata (3.3 kB)\n",
      "Collecting dill<0.3.9,>=0.3.0 (from datasets->-r requirements.txt (line 2))\n",
      "  Downloading dill-0.3.8-py3-none-any.whl.metadata (10 kB)\n",
      "Collecting pandas (from datasets->-r requirements.txt (line 2))\n",
      "  Downloading pandas-2.2.3-cp312-cp312-macosx_11_0_arm64.whl.metadata (89 kB)\n",
      "Requirement already satisfied: requests>=2.32.2 in /Users/sheylacorral/miniconda3/envs/nlp/lib/python3.12/site-packages (from datasets->-r requirements.txt (line 2)) (2.32.3)\n",
      "Collecting xxhash (from datasets->-r requirements.txt (line 2))\n",
      "  Downloading xxhash-3.5.0-cp312-cp312-macosx_11_0_arm64.whl.metadata (12 kB)\n",
      "Collecting multiprocess<0.70.17 (from datasets->-r requirements.txt (line 2))\n",
      "  Downloading multiprocess-0.70.16-py312-none-any.whl.metadata (7.2 kB)\n",
      "Requirement already satisfied: fsspec<=2024.9.0,>=2023.1.0 in /Users/sheylacorral/miniconda3/envs/nlp/lib/python3.12/site-packages (from fsspec[http]<=2024.9.0,>=2023.1.0->datasets->-r requirements.txt (line 2)) (2024.9.0)\n",
      "Collecting aiohttp (from datasets->-r requirements.txt (line 2))\n",
      "  Downloading aiohttp-3.10.10-cp312-cp312-macosx_11_0_arm64.whl.metadata (7.6 kB)\n",
      "Requirement already satisfied: typing-extensions>=4.8.0 in /Users/sheylacorral/miniconda3/envs/nlp/lib/python3.12/site-packages (from torch->-r requirements.txt (line 3)) (4.12.2)\n",
      "Requirement already satisfied: sympy in /Users/sheylacorral/miniconda3/envs/nlp/lib/python3.12/site-packages (from torch->-r requirements.txt (line 3)) (1.13.2)\n",
      "Requirement already satisfied: networkx in /Users/sheylacorral/miniconda3/envs/nlp/lib/python3.12/site-packages (from torch->-r requirements.txt (line 3)) (3.3)\n",
      "Requirement already satisfied: jinja2 in /Users/sheylacorral/miniconda3/envs/nlp/lib/python3.12/site-packages (from torch->-r requirements.txt (line 3)) (3.1.4)\n",
      "Requirement already satisfied: setuptools in /Users/sheylacorral/miniconda3/envs/nlp/lib/python3.12/site-packages (from torch->-r requirements.txt (line 3)) (72.1.0)\n",
      "Requirement already satisfied: regex!=2019.12.17 in /Users/sheylacorral/miniconda3/envs/nlp/lib/python3.12/site-packages (from transformers->-r requirements.txt (line 5)) (2024.7.24)\n",
      "Requirement already satisfied: tokenizers<0.21,>=0.20 in /Users/sheylacorral/miniconda3/envs/nlp/lib/python3.12/site-packages (from transformers->-r requirements.txt (line 5)) (0.20.1)\n",
      "Collecting aiohappyeyeballs>=2.3.0 (from aiohttp->datasets->-r requirements.txt (line 2))\n",
      "  Downloading aiohappyeyeballs-2.4.3-py3-none-any.whl.metadata (6.1 kB)\n",
      "Collecting aiosignal>=1.1.2 (from aiohttp->datasets->-r requirements.txt (line 2))\n",
      "  Using cached aiosignal-1.3.1-py3-none-any.whl.metadata (4.0 kB)\n",
      "Collecting attrs>=17.3.0 (from aiohttp->datasets->-r requirements.txt (line 2))\n",
      "  Downloading attrs-24.2.0-py3-none-any.whl.metadata (11 kB)\n",
      "Collecting frozenlist>=1.1.1 (from aiohttp->datasets->-r requirements.txt (line 2))\n",
      "  Downloading frozenlist-1.5.0-cp312-cp312-macosx_11_0_arm64.whl.metadata (13 kB)\n",
      "Collecting multidict<7.0,>=4.5 (from aiohttp->datasets->-r requirements.txt (line 2))\n",
      "  Downloading multidict-6.1.0-cp312-cp312-macosx_11_0_arm64.whl.metadata (5.0 kB)\n",
      "Collecting yarl<2.0,>=1.12.0 (from aiohttp->datasets->-r requirements.txt (line 2))\n",
      "  Downloading yarl-1.17.1-cp312-cp312-macosx_11_0_arm64.whl.metadata (64 kB)\n",
      "Requirement already satisfied: charset-normalizer<4,>=2 in /Users/sheylacorral/miniconda3/envs/nlp/lib/python3.12/site-packages (from requests>=2.32.2->datasets->-r requirements.txt (line 2)) (3.3.2)\n",
      "Requirement already satisfied: idna<4,>=2.5 in /Users/sheylacorral/miniconda3/envs/nlp/lib/python3.12/site-packages (from requests>=2.32.2->datasets->-r requirements.txt (line 2)) (3.8)\n",
      "Requirement already satisfied: urllib3<3,>=1.21.1 in /Users/sheylacorral/miniconda3/envs/nlp/lib/python3.12/site-packages (from requests>=2.32.2->datasets->-r requirements.txt (line 2)) (2.2.2)\n",
      "Requirement already satisfied: certifi>=2017.4.17 in /Users/sheylacorral/miniconda3/envs/nlp/lib/python3.12/site-packages (from requests>=2.32.2->datasets->-r requirements.txt (line 2)) (2024.8.30)\n",
      "Requirement already satisfied: MarkupSafe>=2.0 in /Users/sheylacorral/miniconda3/envs/nlp/lib/python3.12/site-packages (from jinja2->torch->-r requirements.txt (line 3)) (2.1.5)\n",
      "Requirement already satisfied: python-dateutil>=2.8.2 in /Users/sheylacorral/miniconda3/envs/nlp/lib/python3.12/site-packages (from pandas->datasets->-r requirements.txt (line 2)) (2.9.0)\n",
      "Collecting pytz>=2020.1 (from pandas->datasets->-r requirements.txt (line 2))\n",
      "  Downloading pytz-2024.2-py2.py3-none-any.whl.metadata (22 kB)\n",
      "Requirement already satisfied: tzdata>=2022.7 in /Users/sheylacorral/miniconda3/envs/nlp/lib/python3.12/site-packages (from pandas->datasets->-r requirements.txt (line 2)) (2024.1)\n",
      "Requirement already satisfied: mpmath<1.4,>=1.1.0 in /Users/sheylacorral/miniconda3/envs/nlp/lib/python3.12/site-packages (from sympy->torch->-r requirements.txt (line 3)) (1.3.0)\n",
      "Requirement already satisfied: six>=1.5 in /Users/sheylacorral/miniconda3/envs/nlp/lib/python3.12/site-packages (from python-dateutil>=2.8.2->pandas->datasets->-r requirements.txt (line 2)) (1.16.0)\n",
      "Collecting propcache>=0.2.0 (from yarl<2.0,>=1.12.0->aiohttp->datasets->-r requirements.txt (line 2))\n",
      "  Downloading propcache-0.2.0-cp312-cp312-macosx_11_0_arm64.whl.metadata (7.7 kB)\n",
      "Downloading accelerate-1.1.0-py3-none-any.whl (333 kB)\n",
      "Downloading datasets-3.1.0-py3-none-any.whl (480 kB)\n",
      "Downloading evaluate-0.4.3-py3-none-any.whl (84 kB)\n",
      "Downloading dill-0.3.8-py3-none-any.whl (116 kB)\n",
      "Downloading aiohttp-3.10.10-cp312-cp312-macosx_11_0_arm64.whl (390 kB)\n",
      "Downloading multiprocess-0.70.16-py312-none-any.whl (146 kB)\n"
     ]
    }
   ],
   "source": [
    "pip install -r requirements.txt\n"
   ]
  },
  {
   "cell_type": "code",
   "execution_count": 1,
   "metadata": {},
   "outputs": [
    {
     "name": "stdout",
     "output_type": "stream",
     "text": [
      "Requirement already satisfied: pip in /Users/sheylacorral/miniconda3/envs/nlp/lib/python3.12/site-packages (24.2)\n",
      "Collecting pip\n",
      "  Downloading pip-24.3.1-py3-none-any.whl.metadata (3.7 kB)\n",
      "Downloading pip-24.3.1-py3-none-any.whl (1.8 MB)\n",
      "\u001b[2K   \u001b[90m━━━━━━━━━━━━━━━━━━━━━━━━━━━━━━━━━━━━━━━━\u001b[0m \u001b[32m1.8/1.8 MB\u001b[0m \u001b[31m39.4 kB/s\u001b[0m eta \u001b[36m0:00:00\u001b[0ma \u001b[36m0:00:08\u001b[0m\n",
      "\u001b[?25hInstalling collected packages: pip\n",
      "  Attempting uninstall: pip\n",
      "    Found existing installation: pip 24.2\n",
      "    Uninstalling pip-24.2:\n",
      "      Successfully uninstalled pip-24.2\n",
      "Successfully installed pip-24.3.1\n",
      "Note: you may need to restart the kernel to use updated packages.\n"
     ]
    }
   ],
   "source": [
    "pip install --upgrade pip"
   ]
  }
 ],
 "metadata": {
  "kernelspec": {
   "display_name": "nlp",
   "language": "python",
   "name": "python3"
  },
  "language_info": {
   "codemirror_mode": {
    "name": "ipython",
    "version": 3
   },
   "file_extension": ".py",
   "mimetype": "text/x-python",
   "name": "python",
   "nbconvert_exporter": "python",
   "pygments_lexer": "ipython3",
   "version": "3.12.4"
  }
 },
 "nbformat": 4,
 "nbformat_minor": 2
}
